{
 "cells": [
  {
   "cell_type": "code",
   "execution_count": 5,
   "metadata": {},
   "outputs": [],
   "source": [
    "from experiments.geneticProgramming.tree import Tree\n",
    "\n",
    "from experiments.geneticProgramming.operations import add, multipy, devide, square, power, subtract"
   ]
  },
  {
   "cell_type": "code",
   "execution_count": 6,
   "metadata": {},
   "outputs": [],
   "source": [
    "funcSet = [\n",
    "    [add, 2, '+'],\n",
    "    [multipy, 2, '*'],\n",
    "    [devide, 2, '/'], \n",
    "    [square, 1, '^2'],\n",
    "    [power, 2, '^'],\n",
    "    [subtract, 2, '-'],\n",
    "]\n",
    "termSet = [1, 3, 4, 5]"
   ]
  },
  {
   "cell_type": "code",
   "execution_count": 7,
   "metadata": {},
   "outputs": [
    {
     "name": "stdout",
     "output_type": "stream",
     "text": [
      "Number nodes: 7\nCreate depth: 3\nMax depth: 3\n[0](0)   ^\t[1](1)   /\t[2](2)   1\n\t\t[2](3)   -\t[3](4)   4\n\t\t\t[3](5)   1\n\t[1](6)   3\n\nNumber nodes: 12\nCreate depth: 3\nMax depth: 3\n[0](0)   ^\t[1](1)   -\t[2](2)   /\t[3](3)   5\n\t\t\t[3](4)   3\n\t\t[2](5)   -\t[3](6)   3\n\t\t\t[3](7)   4\n\t[1](8)   ^2\t[2](9)   -\t[3](10)   4\n\t\t\t[3](11)   3\n\n"
     ]
    }
   ],
   "source": [
    "tree1 = Tree(3, 3, funcSet, termSet)\n",
    "tree2 = Tree(3, 3, funcSet, termSet)\n",
    "\n",
    "tree1.grow()\n",
    "tree2.full()\n",
    "\n",
    "print(tree1.toString())\n",
    "print(tree2.toString())"
   ]
  },
  {
   "cell_type": "code",
   "execution_count": 8,
   "metadata": {},
   "outputs": [
    {
     "data": {
      "text/plain": [
       "0.03703703703703703"
      ]
     },
     "execution_count": 8,
     "metadata": {},
     "output_type": "execute_result"
    }
   ],
   "source": [
    "\n",
    "tree1.execute()"
   ]
  },
  {
   "cell_type": "code",
   "execution_count": 9,
   "metadata": {},
   "outputs": [
    {
     "data": {
      "text/plain": [
       "1.0"
      ]
     },
     "execution_count": 9,
     "metadata": {},
     "output_type": "execute_result"
    }
   ],
   "source": [
    "tree1.termSet = [2, 3, 4, 5]\n",
    "\n",
    "tree1.execute()"
   ]
  },
  {
   "cell_type": "code",
   "execution_count": 10,
   "metadata": {},
   "outputs": [
    {
     "name": "stdout",
     "output_type": "stream",
     "text": [
      "Number nodes: 7\nCreate depth: 3\nMax depth: 3\n[0](0)   ^\t[1](1)   /\t[2](2)   2\n\t\t[2](3)   -\t[3](4)   4\n\t\t\t[3](5)   2\n\t[1](6)   3\n\n"
     ]
    }
   ],
   "source": [
    "print(tree1.toString())"
   ]
  },
  {
   "cell_type": "code",
   "execution_count": 11,
   "metadata": {},
   "outputs": [
    {
     "data": {
      "text/plain": [
       "7"
      ]
     },
     "execution_count": 11,
     "metadata": {},
     "output_type": "execute_result"
    }
   ],
   "source": [
    "tree1.index"
   ]
  },
  {
   "cell_type": "code",
   "execution_count": 12,
   "metadata": {},
   "outputs": [
    {
     "name": "stdout",
     "output_type": "stream",
     "text": [
      "[0](None)   /\t[1](None)   2\n\t[1](None)   -\t[2](None)   4\n\t\t[2](None)   2\n\n"
     ]
    }
   ],
   "source": [
    "branch = tree1.getBranch()\n",
    "\n",
    "print(branch.toString())"
   ]
  },
  {
   "cell_type": "code",
   "execution_count": 13,
   "metadata": {},
   "outputs": [
    {
     "name": "stdout",
     "output_type": "stream",
     "text": [
      "[0](0)   /\t[1](1)   +\t[2](2)   *\t[3](3)   3\n\t\t\t[3](4)   3\n\t\t[2](5)   2\n\t[1](6)   /\t[2](7)   -\t[3](8)   2\n\t\t\t[3](9)   2\n\t\t[2](10)   /\t[3](11)   5\n\t\t\t[3](12)   2\n\n"
     ]
    }
   ],
   "source": [
    "tree1.index = 0\n",
    "branch.reindex(0)\n",
    "\n",
    "print(branch.toString())"
   ]
  },
  {
   "cell_type": "code",
   "execution_count": null,
   "metadata": {},
   "outputs": [],
   "source": []
  }
 ],
 "metadata": {
  "kernelspec": {
   "display_name": "Python 3",
   "language": "python",
   "name": "python3"
  },
  "language_info": {
   "codemirror_mode": {
    "name": "ipython",
    "version": 3
   },
   "file_extension": ".py",
   "mimetype": "text/x-python",
   "name": "python",
   "nbconvert_exporter": "python",
   "pygments_lexer": "ipython3",
   "version": "3.5.2"
  }
 },
 "nbformat": 4,
 "nbformat_minor": 2
}
