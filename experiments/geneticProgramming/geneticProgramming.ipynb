{
 "cells": [
  {
   "cell_type": "code",
   "execution_count": 1,
   "metadata": {},
   "outputs": [],
   "source": [
    "from experiments.geneticProgramming.tree import Tree\n",
    "\n",
    "from experiments.geneticProgramming.operations import add, multipy, devide, square, power, subtract"
   ]
  },
  {
   "cell_type": "code",
   "execution_count": 2,
   "metadata": {},
   "outputs": [],
   "source": [
    "funcSet = [\n",
    "    [add, 2, '+'],\n",
    "    [multipy, 2, '*'],\n",
    "    [devide, 2, '/'], \n",
    "    [square, 1, '^2'],\n",
    "    [power, 2, '^'],\n",
    "    [subtract, 2, '-'],\n",
    "]\n",
    "termSet = [1, 3, 4, 5]"
   ]
  },
  {
   "cell_type": "code",
   "execution_count": 3,
   "metadata": {},
   "outputs": [
    {
     "name": "stdout",
     "output_type": "stream",
     "text": [
      "Number nodes: 14\nCreate depth: 3\nMax depth: 3\n(0)   ^\t(1)   *\t(2)   +\t(3)   5\n\t\t\t(4)   5\n\t\t(5)   ^2\t(6)   5\n\t(7)   /\t(8)   +\t(9)   3\n\t\t\t(10)   1\n\t\t(11)   /\t(12)   1\n\t\t\t(13)   1\n\nNumber nodes: 12\nCreate depth: 3\nMax depth: 3\n(0)   *\t(1)   ^2\t(2)   /\t(3)   5\n\t\t\t(4)   1\n\t(5)   *\t(6)   ^\t(7)   4\n\t\t\t(8)   3\n\t\t(9)   /\t(10)   4\n\t\t\t(11)   1\n\n"
     ]
    }
   ],
   "source": [
    "tree1 = Tree(3, 3, funcSet, termSet)\n",
    "tree2 = Tree(3, 3, funcSet, termSet)\n",
    "\n",
    "tree1.grow()\n",
    "tree2.full()\n",
    "\n",
    "print(tree1.toString())\n",
    "print(tree2.toString())"
   ]
  },
  {
   "cell_type": "code",
   "execution_count": 4,
   "metadata": {},
   "outputs": [
    {
     "data": {
      "text/plain": [
       "3906250000.0"
      ]
     },
     "execution_count": 4,
     "metadata": {},
     "output_type": "execute_result"
    }
   ],
   "source": [
    "\n",
    "tree1.execute()"
   ]
  },
  {
   "cell_type": "code",
   "execution_count": 5,
   "metadata": {},
   "outputs": [
    {
     "data": {
      "text/plain": [
       "976562500000.0"
      ]
     },
     "execution_count": 5,
     "metadata": {},
     "output_type": "execute_result"
    }
   ],
   "source": [
    "tree1.termSet = [2, 3, 4, 5]\n",
    "\n",
    "tree1.execute()"
   ]
  },
  {
   "cell_type": "code",
   "execution_count": 6,
   "metadata": {},
   "outputs": [
    {
     "name": "stdout",
     "output_type": "stream",
     "text": [
      "Number nodes: 14\nCreate depth: 3\nMax depth: 3\n(0)   ^\t(1)   *\t(2)   +\t(3)   5\n\t\t\t(4)   5\n\t\t(5)   ^2\t(6)   5\n\t(7)   /\t(8)   +\t(9)   3\n\t\t\t(10)   2\n\t\t(11)   /\t(12)   2\n\t\t\t(13)   2\n\n"
     ]
    }
   ],
   "source": [
    "print(tree1.toString())"
   ]
  },
  {
   "cell_type": "code",
   "execution_count": 7,
   "metadata": {},
   "outputs": [
    {
     "data": {
      "text/plain": [
       "14"
      ]
     },
     "execution_count": 7,
     "metadata": {},
     "output_type": "execute_result"
    }
   ],
   "source": [
    "tree1.index"
   ]
  },
  {
   "cell_type": "code",
   "execution_count": 10,
   "metadata": {},
   "outputs": [
    {
     "name": "stdout",
     "output_type": "stream",
     "text": [
      "1\n(1)   *\t(2)   +\t(3)   5\n\t\t\t(4)   5\n\t\t(5)   ^2\t(6)   5\n\n(None)   *\t(None)   +\t(None)   5\n\t\t(None)   5\n\t(None)   ^2\t(None)   5\n\n"
     ]
    }
   ],
   "source": [
    "branch = tree1.getBranch()\n",
    "\n",
    "print(branch.toString())"
   ]
  },
  {
   "cell_type": "code",
   "execution_count": null,
   "metadata": {},
   "outputs": [],
   "source": []
  }
 ],
 "metadata": {
  "kernelspec": {
   "display_name": "Python 3",
   "language": "python",
   "name": "python3"
  },
  "language_info": {
   "codemirror_mode": {
    "name": "ipython",
    "version": 3
   },
   "file_extension": ".py",
   "mimetype": "text/x-python",
   "name": "python",
   "nbconvert_exporter": "python",
   "pygments_lexer": "ipython3",
   "version": "3.5.2"
  }
 },
 "nbformat": 4,
 "nbformat_minor": 2
}
